{
 "cells": [
  {
   "cell_type": "code",
   "execution_count": 2,
   "metadata": {},
   "outputs": [],
   "source": [
    "import numpy as np\n",
    "import pandas as pd\n",
    "from sklearn.feature_extraction.text import CountVectorizer\n",
    "from sklearn.model_selection import train_test_split\n",
    "from sklearn.naive_bayes import MultinomialNB"
   ]
  },
  {
   "cell_type": "code",
   "execution_count": 25,
   "metadata": {},
   "outputs": [],
   "source": [
    "import pandas as pd\n",
    "import gzip\n",
    "\n",
    "#unzip gzip file and load json file into dataframe\n",
    "path = 'reviews_Video_Games_5.json.gz'\n",
    "def parse(path):\n",
    "  g = gzip.open(path, 'rb')\n",
    "  for l in g:\n",
    "    yield eval(l)\n",
    "\n",
    "def getDF(path):\n",
    "  i = 0\n",
    "  df = {}\n",
    "  for d in parse(path):\n",
    "    df[i] = d\n",
    "    i += 1\n",
    "  return pd.DataFrame.from_dict(df, orient='index')\n",
    "\n",
    "df = getDF('reviews_Video_Games_5.json.gz')"
   ]
  },
  {
   "cell_type": "code",
   "execution_count": 27,
   "metadata": {},
   "outputs": [
    {
     "data": {
      "text/html": [
       "<div>\n",
       "<style scoped>\n",
       "    .dataframe tbody tr th:only-of-type {\n",
       "        vertical-align: middle;\n",
       "    }\n",
       "\n",
       "    .dataframe tbody tr th {\n",
       "        vertical-align: top;\n",
       "    }\n",
       "\n",
       "    .dataframe thead th {\n",
       "        text-align: right;\n",
       "    }\n",
       "</style>\n",
       "<table border=\"1\" class=\"dataframe\">\n",
       "  <thead>\n",
       "    <tr style=\"text-align: right;\">\n",
       "      <th></th>\n",
       "      <th>unixReviewTime</th>\n",
       "      <th>asin</th>\n",
       "      <th>overall</th>\n",
       "      <th>reviewerID</th>\n",
       "      <th>reviewTime</th>\n",
       "      <th>summary</th>\n",
       "      <th>reviewText</th>\n",
       "      <th>helpful</th>\n",
       "      <th>reviewerName</th>\n",
       "    </tr>\n",
       "  </thead>\n",
       "  <tbody>\n",
       "    <tr>\n",
       "      <th>0</th>\n",
       "      <td>1341792000</td>\n",
       "      <td>0700099867</td>\n",
       "      <td>1.0</td>\n",
       "      <td>A2HD75EMZR8QLN</td>\n",
       "      <td>07 9, 2012</td>\n",
       "      <td>Pay to unlock content? I don't think so.</td>\n",
       "      <td>Installing the game was a struggle (because of...</td>\n",
       "      <td>[8, 12]</td>\n",
       "      <td>123</td>\n",
       "    </tr>\n",
       "    <tr>\n",
       "      <th>1</th>\n",
       "      <td>1372550400</td>\n",
       "      <td>0700099867</td>\n",
       "      <td>4.0</td>\n",
       "      <td>A3UR8NLLY1ZHCX</td>\n",
       "      <td>06 30, 2013</td>\n",
       "      <td>Good rally game</td>\n",
       "      <td>If you like rally cars get this game you will ...</td>\n",
       "      <td>[0, 0]</td>\n",
       "      <td>Alejandro Henao \"Electronic Junky\"</td>\n",
       "    </tr>\n",
       "    <tr>\n",
       "      <th>2</th>\n",
       "      <td>1403913600</td>\n",
       "      <td>0700099867</td>\n",
       "      <td>1.0</td>\n",
       "      <td>A1INA0F5CWW3J4</td>\n",
       "      <td>06 28, 2014</td>\n",
       "      <td>Wrong key</td>\n",
       "      <td>1st shipment received a book instead of the ga...</td>\n",
       "      <td>[0, 0]</td>\n",
       "      <td>Amazon Shopper \"Mr.Repsol\"</td>\n",
       "    </tr>\n",
       "    <tr>\n",
       "      <th>3</th>\n",
       "      <td>1315958400</td>\n",
       "      <td>0700099867</td>\n",
       "      <td>3.0</td>\n",
       "      <td>A1DLMTOTHQ4AST</td>\n",
       "      <td>09 14, 2011</td>\n",
       "      <td>awesome game, if it did not crash frequently !!</td>\n",
       "      <td>I got this version instead of the PS3 version,...</td>\n",
       "      <td>[7, 10]</td>\n",
       "      <td>ampgreen</td>\n",
       "    </tr>\n",
       "    <tr>\n",
       "      <th>4</th>\n",
       "      <td>1308009600</td>\n",
       "      <td>0700099867</td>\n",
       "      <td>4.0</td>\n",
       "      <td>A361M14PU2GUEG</td>\n",
       "      <td>06 14, 2011</td>\n",
       "      <td>DIRT 3</td>\n",
       "      <td>I had Dirt 2 on Xbox 360 and it was an okay ga...</td>\n",
       "      <td>[2, 2]</td>\n",
       "      <td>Angry Ryan \"Ryan A. Forrest\"</td>\n",
       "    </tr>\n",
       "  </tbody>\n",
       "</table>\n",
       "</div>"
      ],
      "text/plain": [
       "   unixReviewTime        asin  overall      reviewerID   reviewTime  \\\n",
       "0      1341792000  0700099867      1.0  A2HD75EMZR8QLN   07 9, 2012   \n",
       "1      1372550400  0700099867      4.0  A3UR8NLLY1ZHCX  06 30, 2013   \n",
       "2      1403913600  0700099867      1.0  A1INA0F5CWW3J4  06 28, 2014   \n",
       "3      1315958400  0700099867      3.0  A1DLMTOTHQ4AST  09 14, 2011   \n",
       "4      1308009600  0700099867      4.0  A361M14PU2GUEG  06 14, 2011   \n",
       "\n",
       "                                           summary  \\\n",
       "0         Pay to unlock content? I don't think so.   \n",
       "1                                  Good rally game   \n",
       "2                                        Wrong key   \n",
       "3  awesome game, if it did not crash frequently !!   \n",
       "4                                           DIRT 3   \n",
       "\n",
       "                                          reviewText  helpful  \\\n",
       "0  Installing the game was a struggle (because of...  [8, 12]   \n",
       "1  If you like rally cars get this game you will ...   [0, 0]   \n",
       "2  1st shipment received a book instead of the ga...   [0, 0]   \n",
       "3  I got this version instead of the PS3 version,...  [7, 10]   \n",
       "4  I had Dirt 2 on Xbox 360 and it was an okay ga...   [2, 2]   \n",
       "\n",
       "                         reviewerName  \n",
       "0                                 123  \n",
       "1  Alejandro Henao \"Electronic Junky\"  \n",
       "2          Amazon Shopper \"Mr.Repsol\"  \n",
       "3                            ampgreen  \n",
       "4        Angry Ryan \"Ryan A. Forrest\"  "
      ]
     },
     "execution_count": 27,
     "metadata": {},
     "output_type": "execute_result"
    }
   ],
   "source": [
    "df.head()"
   ]
  },
  {
   "cell_type": "code",
   "execution_count": 31,
   "metadata": {},
   "outputs": [
    {
     "data": {
      "text/plain": [
       "(231780, 210971)"
      ]
     },
     "execution_count": 31,
     "metadata": {},
     "output_type": "execute_result"
    }
   ],
   "source": [
    "#Count vectorizer counts the number of words and how often each word appears for each review\n",
    "cv = CountVectorizer()\n",
    "X_counts = cv.fit_transform(df.reviewText)\n",
    "X_counts.shape"
   ]
  },
  {
   "cell_type": "code",
   "execution_count": 32,
   "metadata": {},
   "outputs": [
    {
     "data": {
      "text/plain": [
       "(231780, 210971)"
      ]
     },
     "execution_count": 32,
     "metadata": {},
     "output_type": "execute_result"
    }
   ],
   "source": [
    "#import term weighting algortihm\n",
    "from sklearn.feature_extraction.text import TfidfTransformer\n",
    "tfidf_transformer = TfidfTransformer()\n",
    "X_tfidf = tfidf_transformer.fit_transform(X_counts)\n",
    "\n",
    "X_tfidf.shape"
   ]
  },
  {
   "cell_type": "code",
   "execution_count": 39,
   "metadata": {},
   "outputs": [],
   "source": [
    "#Let's create a y variable to train predictions form the ratings column\n",
    "y = df.overall.apply(lambda x: 1 if x > 3.5 else 0)"
   ]
  },
  {
   "cell_type": "code",
   "execution_count": 40,
   "metadata": {},
   "outputs": [
    {
     "name": "stdout",
     "output_type": "stream",
     "text": [
      "0         0\n",
      "1         1\n",
      "2         0\n",
      "3         0\n",
      "4         1\n",
      "5         1\n",
      "6         1\n",
      "7         0\n",
      "8         1\n",
      "9         0\n",
      "10        1\n",
      "11        1\n",
      "12        1\n",
      "13        0\n",
      "14        0\n",
      "15        0\n",
      "16        1\n",
      "17        0\n",
      "18        0\n",
      "19        0\n",
      "20        1\n",
      "21        0\n",
      "22        0\n",
      "23        0\n",
      "24        1\n",
      "25        1\n",
      "26        1\n",
      "27        1\n",
      "28        1\n",
      "29        1\n",
      "         ..\n",
      "231750    0\n",
      "231751    1\n",
      "231752    1\n",
      "231753    1\n",
      "231754    1\n",
      "231755    0\n",
      "231756    1\n",
      "231757    1\n",
      "231758    1\n",
      "231759    0\n",
      "231760    1\n",
      "231761    1\n",
      "231762    1\n",
      "231763    0\n",
      "231764    1\n",
      "231765    1\n",
      "231766    1\n",
      "231767    0\n",
      "231768    1\n",
      "231769    1\n",
      "231770    0\n",
      "231771    1\n",
      "231772    0\n",
      "231773    1\n",
      "231774    0\n",
      "231775    1\n",
      "231776    0\n",
      "231777    0\n",
      "231778    0\n",
      "231779    0\n",
      "Name: overall, Length: 231780, dtype: int64\n"
     ]
    }
   ],
   "source": [
    "print(y)"
   ]
  },
  {
   "cell_type": "code",
   "execution_count": 42,
   "metadata": {},
   "outputs": [],
   "source": [
    "#create train and test variables\n",
    "X_train, X_test, y_train, y_test = train_test_split(X_tfidf, y, random_state=10)"
   ]
  },
  {
   "cell_type": "code",
   "execution_count": 48,
   "metadata": {},
   "outputs": [],
   "source": [
    "#create model\n",
    "from sklearn.naive_bayes import MultinomialNB\n",
    "from sklearn.model_selection import cross_val_score\n",
    "mnb = MultinomialNB().fit(X_train, y_train)"
   ]
  },
  {
   "cell_type": "code",
   "execution_count": 49,
   "metadata": {},
   "outputs": [
    {
     "data": {
      "text/plain": [
       "0.7575632064889118"
      ]
     },
     "execution_count": 49,
     "metadata": {},
     "output_type": "execute_result"
    }
   ],
   "source": [
    "#run prediction with test data and check accuracy\n",
    "predicted = mnb.predict(X_test)\n",
    "np.mean(predicted == y_test)"
   ]
  },
  {
   "cell_type": "markdown",
   "metadata": {},
   "source": [
    "The model is 75% accurate, which is pretty good!"
   ]
  },
  {
   "cell_type": "code",
   "execution_count": null,
   "metadata": {},
   "outputs": [],
   "source": []
  }
 ],
 "metadata": {
  "kernelspec": {
   "display_name": "Python 3",
   "language": "python",
   "name": "python3"
  },
  "language_info": {
   "codemirror_mode": {
    "name": "ipython",
    "version": 3
   },
   "file_extension": ".py",
   "mimetype": "text/x-python",
   "name": "python",
   "nbconvert_exporter": "python",
   "pygments_lexer": "ipython3",
   "version": "3.5.3"
  }
 },
 "nbformat": 4,
 "nbformat_minor": 2
}
