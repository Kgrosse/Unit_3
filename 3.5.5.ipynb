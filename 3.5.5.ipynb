{
 "cells": [
  {
   "cell_type": "markdown",
   "metadata": {},
   "source": [
    "## Predict the running times of prospective Olympic sprinters using data from the last 20 Olympics.\n",
    "\n",
    "The best method for predicting running times would be a model that can predict continuous variables. This could be a multivariate linear regression, Random forest, KNN, or SVR. Models could be tested and compared to choose the best model for the data.\n",
    "\n",
    "## You have more features (columns) than rows in your dataset.\n",
    "\n",
    "For this I would conduct an ensemble function, either random forest or gradient boosting, to discern which features are unnecessary and narrow down the dataset.\n",
    "\n",
    "## Identify the most important characteristic predicting likelihood of being jailed before age 20.\n",
    "\n",
    "For this I would conduct either an ensemble function, random forest or boosting, or a principal component analysis\n",
    "\n",
    "## Implement a filter to “highlight” emails that might be important to the recipient\n",
    "For this I would use naive bayes, since it performs well on text classification problems. \n",
    "\n",
    "## You have 1000+ features.\n",
    "\n",
    "This would be either a lasso regression to bring unnecessary features to zero, and then random forest to rank the importance.\n",
    "\n",
    "## Predict whether someone who adds items to their cart on a website will purchase the items.\n",
    "\n",
    "This is a conditional probability problem, so I would likely use naive bayes.\n",
    "\n",
    "## Your dataset dimensions are 982400 x 500\n",
    "\n",
    "Could use lasso, random forest, or gradient boosting and subsampling to reduce the number of features\n",
    "\n",
    "## Identify faces in an image.\n",
    "\n",
    "Gradient boosting could be used to perform an analysis on a vector and then focus on the errors of the decision tree to perform another pass in order to reduce errors and correctly classify the person.\n",
    "\n",
    "## Predict which of three flavors of ice cream will be most popular with boys vs girls.\n"
   ]
  },
  {
   "cell_type": "code",
   "execution_count": null,
   "metadata": {},
   "outputs": [],
   "source": []
  }
 ],
 "metadata": {
  "kernelspec": {
   "display_name": "Python 3",
   "language": "python",
   "name": "python3"
  },
  "language_info": {
   "codemirror_mode": {
    "name": "ipython",
    "version": 3
   },
   "file_extension": ".py",
   "mimetype": "text/x-python",
   "name": "python",
   "nbconvert_exporter": "python",
   "pygments_lexer": "ipython3",
   "version": "3.6.2"
  }
 },
 "nbformat": 4,
 "nbformat_minor": 2
}
